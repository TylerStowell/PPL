{
 "cells": [
  {
   "cell_type": "markdown",
   "id": "immediate-validity",
   "metadata": {},
   "source": [
    "Scala is \"built on top of the JVM\" -- Java Virtual Machine.\n",
    "  - Scala code compiles to Java Byte Code.\n",
    "  - W.R.T Java --> complete interoperability.\n",
    "  - Scala --> Apache Spark\n",
    "  - Scala --> Domain Specific Languages.\n",
    "\n",
    "\n",
    "## Standalone\n",
    "\n",
    "Scala Code --> compiler --> Generate Java Byte Code files (class files) --> execute it (main/Main, entry point).\n",
    "\n",
    "## Intepreter/REPL\n",
    "Scala --> Interpret \n",
    "\n",
    "REPL --> Read -> Eval ->  Print -> Loop"
   ]
  },
  {
   "cell_type": "code",
   "execution_count": 1,
   "id": "studied-batch",
   "metadata": {},
   "outputs": [
    {
     "name": "stdout",
     "output_type": "stream",
     "text": [
      "Hello World!\n"
     ]
    }
   ],
   "source": [
    "println(\"Hello World!\")"
   ]
  },
  {
   "cell_type": "code",
   "execution_count": 7,
   "id": "known-watts",
   "metadata": {},
   "outputs": [
    {
     "data": {
      "text/plain": [
       "defined \u001b[32mfunction\u001b[39m \u001b[36msayHelloTo\u001b[39m"
      ]
     },
     "execution_count": 7,
     "metadata": {},
     "output_type": "execute_result"
    }
   ],
   "source": [
    "def sayHelloTo(whom: String): Unit = { // void  \n",
    "    println(\"Hello World, \" + whom + \" !!\")\n",
    "    println(\"And then blah blah blah\")\n",
    "}"
   ]
  },
  {
   "cell_type": "code",
   "execution_count": 8,
   "id": "canadian-drilling",
   "metadata": {},
   "outputs": [
    {
     "name": "stdout",
     "output_type": "stream",
     "text": [
      "Hello World, Sriram !!\n",
      "And then blah blah blah\n"
     ]
    }
   ],
   "source": [
    "sayHelloTo(\"Sriram\")"
   ]
  },
  {
   "cell_type": "code",
   "execution_count": 9,
   "id": "together-purse",
   "metadata": {},
   "outputs": [
    {
     "name": "stdout",
     "output_type": "stream",
     "text": [
      "Hello World, Dylan !!\n",
      "And then blah blah blah\n"
     ]
    }
   ],
   "source": [
    "sayHelloTo(\"Dylan\")"
   ]
  },
  {
   "cell_type": "code",
   "execution_count": 10,
   "id": "affecting-cleaners",
   "metadata": {},
   "outputs": [
    {
     "name": "stdout",
     "output_type": "stream",
     "text": [
      "Hello World, Elizabeth !!\n",
      "And then blah blah blah\n"
     ]
    }
   ],
   "source": [
    "sayHelloTo(\"Elizabeth\")"
   ]
  },
  {
   "cell_type": "code",
   "execution_count": 11,
   "id": "dominant-tobacco",
   "metadata": {},
   "outputs": [
    {
     "name": "stdout",
     "output_type": "stream",
     "text": [
      "Hello World, 100 !!\n",
      "And then blah blah blah\n"
     ]
    }
   ],
   "source": [
    "sayHelloTo(\"100\")"
   ]
  },
  {
   "cell_type": "code",
   "execution_count": 12,
   "id": "olive-sense",
   "metadata": {},
   "outputs": [
    {
     "name": "stdout",
     "output_type": "stream",
     "text": [
      "Hello World, 100 !!\n",
      "And then blah blah blah\n"
     ]
    }
   ],
   "source": [
    "sayHelloTo(100.toString)"
   ]
  },
  {
   "cell_type": "code",
   "execution_count": 13,
   "id": "motivated-porcelain",
   "metadata": {},
   "outputs": [
    {
     "data": {
      "text/plain": [
       "\u001b[36mx\u001b[39m: \u001b[32mInt\u001b[39m = \u001b[32m10\u001b[39m"
      ]
     },
     "execution_count": 13,
     "metadata": {},
     "output_type": "execute_result"
    }
   ],
   "source": [
    "val x = 10 // x is an identifier"
   ]
  },
  {
   "cell_type": "code",
   "execution_count": 14,
   "id": "accurate-eating",
   "metadata": {},
   "outputs": [
    {
     "data": {
      "text/plain": [
       "\u001b[36mf\u001b[39m: \u001b[32mDouble\u001b[39m = \u001b[32m10.5\u001b[39m"
      ]
     },
     "execution_count": 14,
     "metadata": {},
     "output_type": "execute_result"
    }
   ],
   "source": [
    "val f = 10.5 // let binding"
   ]
  },
  {
   "cell_type": "code",
   "execution_count": 14,
   "id": "facial-spine",
   "metadata": {},
   "outputs": [
    {
     "name": "stderr",
     "output_type": "stream",
     "text": [
      "cmd14.sc:1: reassignment to val\n",
      "val res14 = x = 100 // reassign/redefine\n",
      "              ^Compilation Failed"
     ]
    },
    {
     "ename": "",
     "evalue": "",
     "output_type": "error",
     "traceback": [
      "Compilation Failed"
     ]
    }
   ],
   "source": [
    "x = 100 // reassign/redefine --> not allowedd"
   ]
  },
  {
   "cell_type": "code",
   "execution_count": 14,
   "id": "reliable-reader",
   "metadata": {},
   "outputs": [
    {
     "name": "stderr",
     "output_type": "stream",
     "text": [
      "cmd14.sc:2: x is already defined as value x\n",
      "val x = 500\n",
      "    ^Compilation Failed"
     ]
    },
    {
     "ename": "",
     "evalue": "",
     "output_type": "error",
     "traceback": [
      "Compilation Failed"
     ]
    }
   ],
   "source": [
    "val x = 100\n",
    "val x = 500"
   ]
  },
  {
   "cell_type": "code",
   "execution_count": 22,
   "id": "confident-sussex",
   "metadata": {},
   "outputs": [
    {
     "data": {
      "text/plain": [
       "\u001b[36mx\u001b[39m: \u001b[32mInt\u001b[39m = \u001b[32m100\u001b[39m"
      ]
     },
     "execution_count": 22,
     "metadata": {},
     "output_type": "execute_result"
    }
   ],
   "source": [
    "val x: Int = 100\n"
   ]
  },
  {
   "cell_type": "code",
   "execution_count": 21,
   "id": "right-context",
   "metadata": {},
   "outputs": [
    {
     "data": {
      "text/plain": [
       "\u001b[36mx\u001b[39m: \u001b[32mString\u001b[39m = \u001b[32m\"String\"\u001b[39m"
      ]
     },
     "execution_count": 21,
     "metadata": {},
     "output_type": "execute_result"
    }
   ],
   "source": [
    "val x: String = \"String\""
   ]
  },
  {
   "cell_type": "code",
   "execution_count": 21,
   "id": "collect-reason",
   "metadata": {},
   "outputs": [
    {
     "name": "stderr",
     "output_type": "stream",
     "text": [
      "cmd21.sc:1: type mismatch;\n",
      " found   : Int(100)\n",
      " required: String\n",
      "val x: String = 100 // BAD --> mismatched types\n",
      "                ^Compilation Failed"
     ]
    },
    {
     "ename": "",
     "evalue": "",
     "output_type": "error",
     "traceback": [
      "Compilation Failed"
     ]
    }
   ],
   "source": [
    "val x: String = 100 // BAD --> mismatched types"
   ]
  },
  {
   "cell_type": "code",
   "execution_count": 23,
   "id": "detailed-young",
   "metadata": {},
   "outputs": [
    {
     "data": {
      "text/plain": [
       "\u001b[36mx\u001b[39m: \u001b[32mString\u001b[39m = \u001b[32m\"string\"\u001b[39m"
      ]
     },
     "execution_count": 23,
     "metadata": {},
     "output_type": "execute_result"
    }
   ],
   "source": [
    "val x : String = \"string\""
   ]
  },
  {
   "cell_type": "code",
   "execution_count": 28,
   "id": "unavailable-programming",
   "metadata": {},
   "outputs": [
    {
     "data": {
      "text/plain": [
       "\u001b[36mx\u001b[39m: \u001b[32mInt\u001b[39m = \u001b[32m10\u001b[39m\n",
       "\u001b[36mf\u001b[39m: \u001b[32mDouble\u001b[39m = \u001b[32m15.0\u001b[39m\n",
       "\u001b[36mg\u001b[39m: \u001b[32mInt\u001b[39m = \u001b[32m20\u001b[39m\n",
       "\u001b[36mh\u001b[39m: \u001b[32mInt\u001b[39m = \u001b[32m200\u001b[39m\n",
       "\u001b[36miLikeCapitals\u001b[39m: \u001b[32mString\u001b[39m = \u001b[32m\"Khartoum\"\u001b[39m\n",
       "\u001b[36mh2\u001b[39m: \u001b[32mDouble\u001b[39m = \u001b[32m300.0\u001b[39m"
      ]
     },
     "execution_count": 28,
     "metadata": {},
     "output_type": "execute_result"
    }
   ],
   "source": [
    "val x : Int = 10\n",
    "val f : Double = 15.0\n",
    "val g : Int = 20\n",
    "val h = x*g\n",
    "\n",
    "val iLikeCapitals= \"Khartoum\"\n",
    "\n",
    "val h2 = f * g"
   ]
  },
  {
   "cell_type": "code",
   "execution_count": 33,
   "id": "appropriate-oriental",
   "metadata": {},
   "outputs": [
    {
     "name": "stdout",
     "output_type": "stream",
     "text": [
      "Hello world\n",
      "20\n"
     ]
    },
    {
     "data": {
      "text/plain": [
       "defined \u001b[32mfunction\u001b[39m \u001b[36mhello\u001b[39m"
      ]
     },
     "execution_count": 33,
     "metadata": {},
     "output_type": "execute_result"
    }
   ],
   "source": [
    "def hello(x: Int): Int = x + 10\n",
    "\n",
    "{// Open a new scope\n",
    "    def hello(y: String): String = \"Hello \" + y\n",
    "    println(hello(\"world\"))  \n",
    "}\n",
    "\n",
    "println(hello(10))"
   ]
  },
  {
   "cell_type": "code",
   "execution_count": 38,
   "id": "sacred-yukon",
   "metadata": {},
   "outputs": [
    {
     "name": "stdout",
     "output_type": "stream",
     "text": [
      "10\n"
     ]
    },
    {
     "data": {
      "text/html": [
       "<div class=\"jp-RenderedText\">\n",
       "<pre><code><span style=\"color: rgb(0, 187, 187)\"><span class=\"ansi-cyan-fg\">x</span></span>: <span style=\"color: rgb(0, 187, 0)\"><span class=\"ansi-green-fg\">Int</span></span> = <style>@keyframes fadein { from { opacity: 0; } to { opacity: 1; } }</style><span style=\"animation: fadein 2s;\"><span style=\"color: rgb(0, 187, 0)\"><span class=\"ansi-green-fg\">865</span></span></span></code></pre>\n",
       "</div>"
      ],
      "text/plain": [
       "\u001b[36mx\u001b[39m: \u001b[32mInt\u001b[39m = \u001b[32m865\u001b[39m"
      ]
     },
     "metadata": {},
     "output_type": "display_data"
    }
   ],
   "source": [
    "var x: Int = 10\n",
    "println(x)"
   ]
  },
  {
   "cell_type": "code",
   "execution_count": 39,
   "id": "textile-person",
   "metadata": {},
   "outputs": [],
   "source": [
    "x = 25\n",
    "x = x + 10\n",
    "x = 25 * x\n",
    "x = x - 10"
   ]
  },
  {
   "cell_type": "code",
   "execution_count": 40,
   "id": "wicked-belle",
   "metadata": {},
   "outputs": [
    {
     "name": "stdout",
     "output_type": "stream",
     "text": [
      "865\n"
     ]
    }
   ],
   "source": [
    "println(x)"
   ]
  },
  {
   "cell_type": "code",
   "execution_count": 41,
   "id": "medical-disabled",
   "metadata": {},
   "outputs": [
    {
     "data": {
      "text/html": [
       "<div class=\"jp-RenderedText\">\n",
       "<pre><code><span style=\"color: rgb(0, 187, 187)\"><span class=\"ansi-cyan-fg\">y</span></span>: <span style=\"color: rgb(0, 187, 0)\"><span class=\"ansi-green-fg\">Int</span></span> = <style>@keyframes fadein { from { opacity: 0; } to { opacity: 1; } }</style><span style=\"animation: fadein 2s;\"><span style=\"color: rgb(0, 187, 0)\"><span class=\"ansi-green-fg\">15</span></span></span>\n",
       "defined <span style=\"color: rgb(0, 187, 0)\"><span class=\"ansi-green-fg\">function</span></span> <span style=\"color: rgb(0, 187, 187)\"><span class=\"ansi-cyan-fg\">f</span></span></code></pre>\n",
       "</div>"
      ],
      "text/plain": [
       "\u001b[36my\u001b[39m: \u001b[32mInt\u001b[39m = \u001b[32m15\u001b[39m\n",
       "defined \u001b[32mfunction\u001b[39m \u001b[36mf\u001b[39m"
      ]
     },
     "metadata": {},
     "output_type": "display_data"
    }
   ],
   "source": [
    "var y : Int = 3\n",
    "def f(): Int = y + y "
   ]
  },
  {
   "cell_type": "code",
   "execution_count": 42,
   "id": "typical-adjustment",
   "metadata": {},
   "outputs": [
    {
     "data": {
      "text/plain": [
       "\u001b[36mres41\u001b[39m: \u001b[32mInt\u001b[39m = \u001b[32m6\u001b[39m"
      ]
     },
     "execution_count": 42,
     "metadata": {},
     "output_type": "execute_result"
    }
   ],
   "source": [
    "f()"
   ]
  },
  {
   "cell_type": "code",
   "execution_count": 43,
   "id": "killing-aaron",
   "metadata": {},
   "outputs": [],
   "source": [
    "y = 15 // reassign y to 15"
   ]
  },
  {
   "cell_type": "code",
   "execution_count": 44,
   "id": "individual-picnic",
   "metadata": {},
   "outputs": [
    {
     "data": {
      "text/plain": [
       "\u001b[36mres43\u001b[39m: \u001b[32mInt\u001b[39m = \u001b[32m30\u001b[39m"
      ]
     },
     "execution_count": 44,
     "metadata": {},
     "output_type": "execute_result"
    }
   ],
   "source": [
    "f()"
   ]
  },
  {
   "cell_type": "code",
   "execution_count": 48,
   "id": "improved-being",
   "metadata": {},
   "outputs": [
    {
     "data": {
      "text/plain": [
       "\u001b[36mz\u001b[39m: \u001b[32mInt\u001b[39m = \u001b[32m10\u001b[39m\n",
       "defined \u001b[32mfunction\u001b[39m \u001b[36mg\u001b[39m"
      ]
     },
     "execution_count": 48,
     "metadata": {},
     "output_type": "execute_result"
    }
   ],
   "source": [
    "val z = 10\n",
    "def g: Int = z + z"
   ]
  },
  {
   "cell_type": "code",
   "execution_count": 46,
   "id": "reflected-jacksonville",
   "metadata": {},
   "outputs": [
    {
     "data": {
      "text/plain": [
       "\u001b[36mz\u001b[39m: \u001b[32mInt\u001b[39m = \u001b[32m45\u001b[39m"
      ]
     },
     "execution_count": 46,
     "metadata": {},
     "output_type": "execute_result"
    }
   ],
   "source": [
    "val z = 45 "
   ]
  },
  {
   "cell_type": "code",
   "execution_count": 51,
   "id": "saved-banks",
   "metadata": {},
   "outputs": [
    {
     "data": {
      "text/plain": [
       "\u001b[36mres50\u001b[39m: \u001b[32mInt\u001b[39m = \u001b[32m20\u001b[39m"
      ]
     },
     "execution_count": 51,
     "metadata": {},
     "output_type": "execute_result"
    }
   ],
   "source": [
    "g"
   ]
  },
  {
   "cell_type": "code",
   "execution_count": 58,
   "id": "objective-boston",
   "metadata": {},
   "outputs": [
    {
     "data": {
      "text/plain": [
       "\u001b[36mx\u001b[39m: \u001b[32mInt\u001b[39m = \u001b[32m15\u001b[39m"
      ]
     },
     "execution_count": 58,
     "metadata": {},
     "output_type": "execute_result"
    }
   ],
   "source": [
    "val x = 15"
   ]
  },
  {
   "cell_type": "code",
   "execution_count": 59,
   "id": "variable-first",
   "metadata": {},
   "outputs": [
    {
     "name": "stdout",
     "output_type": "stream",
     "text": [
      "15\n"
     ]
    }
   ],
   "source": [
    "println(x)"
   ]
  },
  {
   "cell_type": "code",
   "execution_count": 60,
   "id": "ordinary-injection",
   "metadata": {},
   "outputs": [
    {
     "data": {
      "text/plain": [
       "\u001b[36mx\u001b[39m: \u001b[32mChar\u001b[39m = \u001b[32m'x'\u001b[39m"
      ]
     },
     "execution_count": 60,
     "metadata": {},
     "output_type": "execute_result"
    }
   ],
   "source": [
    "// Int, Double, String\n",
    "// Char\n",
    "val x : Char = 'x'"
   ]
  },
  {
   "cell_type": "code",
   "execution_count": 61,
   "id": "printable-oriental",
   "metadata": {},
   "outputs": [
    {
     "data": {
      "text/plain": [
       "\u001b[36mf\u001b[39m: \u001b[32mFloat\u001b[39m = \u001b[32m12.0F\u001b[39m"
      ]
     },
     "execution_count": 61,
     "metadata": {},
     "output_type": "execute_result"
    }
   ],
   "source": [
    "val f: Float = 12.0f"
   ]
  },
  {
   "cell_type": "code",
   "execution_count": 62,
   "id": "fancy-penguin",
   "metadata": {},
   "outputs": [
    {
     "data": {
      "text/plain": [
       "\u001b[36mres61\u001b[39m: \u001b[32mDouble\u001b[39m = \u001b[32m27.0\u001b[39m"
      ]
     },
     "execution_count": 62,
     "metadata": {},
     "output_type": "execute_result"
    }
   ],
   "source": [
    "12.0f + 15.0d"
   ]
  },
  {
   "cell_type": "code",
   "execution_count": 63,
   "id": "excellent-tuition",
   "metadata": {},
   "outputs": [
    {
     "data": {
      "text/plain": [
       "\u001b[36mxTup\u001b[39m: (\u001b[32mDouble\u001b[39m, \u001b[32mString\u001b[39m) = (\u001b[32m12.0\u001b[39m, \u001b[32m\"Hello\"\u001b[39m)"
      ]
     },
     "execution_count": 63,
     "metadata": {},
     "output_type": "execute_result"
    }
   ],
   "source": [
    "val xTup: (Double, String) = (12.0, \"Hello\")"
   ]
  },
  {
   "cell_type": "code",
   "execution_count": 65,
   "id": "posted-surge",
   "metadata": {},
   "outputs": [
    {
     "data": {
      "text/plain": [
       "\u001b[36mxTup\u001b[39m: (\u001b[32mDouble\u001b[39m, \u001b[32mString\u001b[39m, \u001b[32mString\u001b[39m, \u001b[32mInt\u001b[39m, \u001b[32mDouble\u001b[39m, \u001b[32mInt\u001b[39m, \u001b[32mString\u001b[39m) = (\n",
       "  \u001b[32m11.0\u001b[39m,\n",
       "  \u001b[32m\"World\"\u001b[39m,\n",
       "  \u001b[32m\"Mine\"\u001b[39m,\n",
       "  \u001b[32m15\u001b[39m,\n",
       "  \u001b[32m450.6\u001b[39m,\n",
       "  \u001b[32m99\u001b[39m,\n",
       "  \u001b[32m\"Design a class please\"\u001b[39m\n",
       ")"
      ]
     },
     "execution_count": 65,
     "metadata": {},
     "output_type": "execute_result"
    }
   ],
   "source": [
    "val xTup = (11.0, \"World\", \"Mine\", 15, 450.6, 99, \"Design a class please\")"
   ]
  },
  {
   "cell_type": "code",
   "execution_count": 66,
   "id": "applicable-heath",
   "metadata": {},
   "outputs": [
    {
     "data": {
      "text/plain": [
       "\u001b[36myTup\u001b[39m: ((\u001b[32mDouble\u001b[39m, \u001b[32mDouble\u001b[39m), \u001b[32mInt\u001b[39m, (\u001b[32mString\u001b[39m, \u001b[32mString\u001b[39m, \u001b[32mString\u001b[39m)) = (\n",
       "  (\u001b[32m12.5\u001b[39m, \u001b[32m15.2\u001b[39m),\n",
       "  \u001b[32m10\u001b[39m,\n",
       "  (\u001b[32m\"Hello\"\u001b[39m, \u001b[32m\"world\"\u001b[39m, \u001b[32m\"this is horrible programming practice\"\u001b[39m)\n",
       ")"
      ]
     },
     "execution_count": 66,
     "metadata": {},
     "output_type": "execute_result"
    }
   ],
   "source": [
    "val yTup = ((12.5, 15.2), 10, (\"Hello\", \"world\", \"this is horrible programming practice\"))"
   ]
  },
  {
   "cell_type": "code",
   "execution_count": 71,
   "id": "understanding-technology",
   "metadata": {},
   "outputs": [
    {
     "data": {
      "text/html": [
       "<div class=\"jp-RenderedText\">\n",
       "<pre><code><span style=\"color: rgb(0, 187, 187)\"><span class=\"ansi-cyan-fg\">zTup</span></span>: (<span style=\"color: rgb(0, 187, 0)\"><span class=\"ansi-green-fg\">Int</span></span>, <span style=\"color: rgb(0, 187, 0)\"><span class=\"ansi-green-fg\">Int</span></span>, <span style=\"color: rgb(0, 187, 0)\"><span class=\"ansi-green-fg\">Int</span></span>) = <style>@keyframes fadein { from { opacity: 0; } to { opacity: 1; } }</style><span style=\"animation: fadein 2s;\">(<span style=\"color: rgb(0, 187, 0)\"><span class=\"ansi-green-fg\">15</span></span>, <span style=\"color: rgb(0, 187, 0)\"><span class=\"ansi-green-fg\">11</span></span>, <span style=\"color: rgb(0, 187, 0)\"><span class=\"ansi-green-fg\">15</span></span>)</span></code></pre>\n",
       "</div>"
      ],
      "text/plain": [
       "\u001b[36mzTup\u001b[39m: (\u001b[32mInt\u001b[39m, \u001b[32mInt\u001b[39m, \u001b[32mInt\u001b[39m) = (\u001b[32m15\u001b[39m, \u001b[32m11\u001b[39m, \u001b[32m15\u001b[39m)"
      ]
     },
     "metadata": {},
     "output_type": "display_data"
    }
   ],
   "source": [
    "var zTup = (12, 12, 15)"
   ]
  },
  {
   "cell_type": "code",
   "execution_count": 72,
   "id": "confirmed-flashing",
   "metadata": {},
   "outputs": [],
   "source": [
    "zTup = (15, 11, 15)"
   ]
  },
  {
   "cell_type": "code",
   "execution_count": 73,
   "id": "impaired-collins",
   "metadata": {},
   "outputs": [
    {
     "data": {
      "text/plain": [
       "\u001b[36mres72\u001b[39m: \u001b[32mInt\u001b[39m = \u001b[32m15\u001b[39m"
      ]
     },
     "execution_count": 73,
     "metadata": {},
     "output_type": "execute_result"
    }
   ],
   "source": [
    "zTup._3"
   ]
  },
  {
   "cell_type": "code",
   "execution_count": 74,
   "id": "coastal-exception",
   "metadata": {},
   "outputs": [
    {
     "data": {
      "text/plain": [
       "\u001b[36mzztup\u001b[39m: ((\u001b[32mInt\u001b[39m, \u001b[32mInt\u001b[39m, \u001b[32mInt\u001b[39m), \u001b[32mInt\u001b[39m, \u001b[32mInt\u001b[39m) = ((\u001b[32m1\u001b[39m, \u001b[32m1\u001b[39m, \u001b[32m1\u001b[39m), \u001b[32m2\u001b[39m, \u001b[32m3\u001b[39m)"
      ]
     },
     "execution_count": 74,
     "metadata": {},
     "output_type": "execute_result"
    }
   ],
   "source": [
    "val zztup = ((1,1,1), 2, 3)"
   ]
  },
  {
   "cell_type": "code",
   "execution_count": 76,
   "id": "composed-transaction",
   "metadata": {},
   "outputs": [
    {
     "data": {
      "text/plain": [
       "\u001b[36mres75\u001b[39m: \u001b[32mInt\u001b[39m = \u001b[32m1\u001b[39m"
      ]
     },
     "execution_count": 76,
     "metadata": {},
     "output_type": "execute_result"
    }
   ],
   "source": [
    "zztup._1._2 // This is bad syntax -- We will try not to use it."
   ]
  },
  {
   "cell_type": "code",
   "execution_count": 78,
   "id": "whole-thing",
   "metadata": {},
   "outputs": [
    {
     "data": {
      "text/plain": [
       "\u001b[36mx1\u001b[39m: \u001b[32mInt\u001b[39m = \u001b[32m15\u001b[39m\n",
       "\u001b[36mx2\u001b[39m: \u001b[32mInt\u001b[39m = \u001b[32m11\u001b[39m\n",
       "\u001b[36mx3\u001b[39m: \u001b[32mInt\u001b[39m = \u001b[32m15\u001b[39m"
      ]
     },
     "execution_count": 78,
     "metadata": {},
     "output_type": "execute_result"
    }
   ],
   "source": [
    "val (x1: Int, x2: Int, x3: Int ) = zTup // Unpacking\n"
   ]
  },
  {
   "cell_type": "code",
   "execution_count": 81,
   "id": "developmental-basis",
   "metadata": {},
   "outputs": [
    {
     "data": {
      "text/plain": [
       "defined \u001b[32mfunction\u001b[39m \u001b[36mspecialFun\u001b[39m"
      ]
     },
     "execution_count": 81,
     "metadata": {},
     "output_type": "execute_result"
    }
   ],
   "source": [
    "def specialFun(x: Int): (Boolean, Int) = {\n",
    "    if (x <= 10) {\n",
    "        (true, x)\n",
    "    } else {\n",
    "        (false, x - 25)\n",
    "    }\n",
    "}"
   ]
  },
  {
   "cell_type": "markdown",
   "id": "sacred-frequency",
   "metadata": {},
   "source": [
    "$$ f(x) = \\begin{cases} \n",
    "   (true, x) & if\\ x \\leq 10 \\\\\n",
    "   (false, x - 25) & otherwise \n",
    "   \\end{cases} $$"
   ]
  },
  {
   "cell_type": "code",
   "execution_count": 81,
   "id": "suspected-atlas",
   "metadata": {},
   "outputs": [],
   "source": [
    "// List\n",
    "// Class \n",
    "// If-then-else\n",
    "// Loops\n",
    "// Loops vs Recursions"
   ]
  },
  {
   "cell_type": "code",
   "execution_count": null,
   "id": "hollow-rates",
   "metadata": {},
   "outputs": [],
   "source": []
  }
 ],
 "metadata": {
  "kernelspec": {
   "display_name": "Scala",
   "language": "scala",
   "name": "scala"
  },
  "language_info": {
   "codemirror_mode": "text/x-scala",
   "file_extension": ".sc",
   "mimetype": "text/x-scala",
   "name": "scala",
   "nbconvert_exporter": "script",
   "version": "2.13.3"
  }
 },
 "nbformat": 4,
 "nbformat_minor": 5
}
