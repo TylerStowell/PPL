{
 "cells": [
  {
   "cell_type": "markdown",
   "metadata": {},
   "source": [
    "# April 2nd Recitation\n",
    "\n",
    "In this week's recitation we will cover:\n",
    "\n",
    "* Review of finite state machines\n",
    "* Representing State in Scala\n",
    "* Regular Expressions\n"
   ]
  },
  {
   "cell_type": "markdown",
   "metadata": {},
   "source": [
    "## Finite State Machines"
   ]
  },
  {
   "attachments": {},
   "cell_type": "markdown",
   "metadata": {},
   "source": [
    "### Example\n",
    "\n",
    "<img src=\"attachment:FSM.png\" width=\"200\"> \n",
    "\n",
    "Consider the finite state machine above. We can describe this FSM formally by defining a few properties for it as sets and functions. \n",
    "\n",
    "1. The states($Q$) in the state machine are $Q = \\{ q_1, q_2, q_3\\}$\n",
    "2. The alphabet($\\Sigma$) for the state machine are $Q = \\{ a, b \\}$\n",
    "3. The transition function ($ \\delta: Q \\times \\Sigma \\rightarrow Q$) is:\n",
    "  $$\n",
    "  \\delta(q_1, \\_) = q_2 \\\\ \n",
    "  \\delta(q_2, a) = q_3 \\\\\n",
    "  \\delta(q_2, b) = q_2 \\\\\n",
    "  \\delta(q_3, a) = q_3 \\\\\n",
    "  \\delta(q_3, b) = q_2 \\\\\n",
    "  $$\n",
    " \n",
    "4. The initial state($s_0$) is $q_1$\n",
    "5. The accepting/final state($F$) is $F = \\{ q_3 \\}$\n",
    "\n",
    "Note that this set of information completely defines the FSM and no other data can be taken from the image above. If we set an encoding of this information in Scala, we should be able to write an interpreter to decide if a string is accepted by this(or any) finite state machine."
   ]
  },
  {
   "cell_type": "markdown",
   "metadata": {},
   "source": [
    "#### Exercise\n",
    "\n",
    "Now, convert the FSM below into a graphical representation.\n",
    "\n",
    "1. The states($Q$) in the state machine are $Q = \\{ q_1, q_2, q_3, q_4, q_5 \\}$\n",
    "2. The alphabet($\\Sigma$) for the state machine are $Q = \\{ a, b \\}$\n",
    "3. The transition function ($ \\delta: Q \\times \\Sigma \\rightarrow Q$) is:\n",
    "  $$\n",
    "  \\delta(q_1, \\_) = q_2 \\\\ \n",
    "  \\delta(q_2, a) = q_3 \\\\\n",
    "  \\delta(q_2, b) = q_2 \\\\\n",
    "  \\delta(q_3, a) = q_4 \\\\\n",
    "  \\delta(q_3, b) = q_3 \\\\\n",
    "  \\delta(q_4, a) = q_5 \\\\\n",
    "  \\delta(q_4, b) = q_4 \\\\\n",
    "  \\delta(q_5, a) = q_5 \\\\\n",
    "  \\delta(q_5, b) = q_1 \\\\\n",
    "  $$\n",
    " \n",
    "4. The initial state($s_0$) is $q_1$\n",
    "5. The accepting/final state($F$) is $F = \\{ q_4 , q_5 \\}$"
   ]
  },
  {
   "cell_type": "markdown",
   "metadata": {},
   "source": [
    "## Mutable Programs VS Immutable Programs\n",
    "\n",
    "We can represent \"changes\" to a data structure in a few ways in a language like Scala. The first is to create a class with some kind of mutable state \"baked-into\" the objects. The alternative, functional, option is to create a set of transformations that take the data as input and then output the changed data. Here is an example on a counter:"
   ]
  },
  {
   "cell_type": "code",
   "execution_count": 3,
   "metadata": {},
   "outputs": [
    {
     "data": {
      "text/plain": [
       "defined \u001b[32mclass\u001b[39m \u001b[36mmutableCounter\u001b[39m"
      ]
     },
     "execution_count": 3,
     "metadata": {},
     "output_type": "execute_result"
    }
   ],
   "source": [
    "class mutableCounter(){\n",
    "    var n = 0;\n",
    "    def addOne : Unit = {\n",
    "        n = n+1\n",
    "    }\n",
    "    def minusOne : Unit = {\n",
    "        n = n-1\n",
    "    }\n",
    "}"
   ]
  },
  {
   "cell_type": "markdown",
   "metadata": {},
   "source": [
    "Now we want you to write this same class, but instead, the functions addOne and minusOne should have the type `Int => Int` instead of `Unit`. The `Int` to `Int` type can be thought of as applying an update to the state of an integer. But note that there is no mutable state, instead we are just simulating it."
   ]
  },
  {
   "cell_type": "code",
   "execution_count": 4,
   "metadata": {},
   "outputs": [
    {
     "data": {
      "text/plain": [
       "defined \u001b[32mtype\u001b[39m \u001b[36mCounter\u001b[39m\n",
       "defined \u001b[32mfunction\u001b[39m \u001b[36maddOne\u001b[39m\n",
       "defined \u001b[32mfunction\u001b[39m \u001b[36mminusOne\u001b[39m"
      ]
     },
     "execution_count": 4,
     "metadata": {},
     "output_type": "execute_result"
    }
   ],
   "source": [
    "type Counter = Int\n",
    "\n",
    "def addOne : Int => Int = ???\n",
    "\n",
    "def minusOne : Int => Int = ???"
   ]
  },
  {
   "cell_type": "markdown",
   "metadata": {},
   "source": [
    "Now, consider when you may choose one of these representations over the other. Is one simpler to write? Is one simpler to use? Is one of them more prone to errors? Could you make either of them ergonomic?"
   ]
  },
  {
   "cell_type": "markdown",
   "metadata": {},
   "source": [
    "## Regular Expressions\n",
    "\n",
    "Recall the definition of a regular expression:\n",
    "\n",
    "$$ \\begin{array}{rcl}\n",
    "\\mathbf{RegExpr} & \\rightarrow & \\text{Atom}(String) \\\\\n",
    "& | & \\text{Or}(\\mathbf{RegExpr}, \\mathbf{RegExpr}) \\\\\n",
    "& | &  \\text{Concat} (\\mathbf{RegExpr}, \\mathbf{RegExpr}) \\\\\n",
    "& | & \\text{KleeneStar}( \\mathbf{RegExpr} ) \\\\\n",
    "\\end{array}$$\n",
    "\n",
    "Let's review how each of these operators behave, and work an example.\n",
    "\n",
    "* $\\text{Atom(String)}$ takes a string and matches on exactly that string\n",
    "* $\\text{Or}$ takes two regular expressions and matches on either\n",
    "* $\\text{Concat}$ takes two regular expressions and matches when they occur in-order\n",
    "* $\\text{KleeneStar}$ takes a regular expression and matches whenever that patterns occurs repeatedly, some finite number of times\n",
    "\n",
    "Now, write a few regular expressions that match all of the following strings:"
   ]
  },
  {
   "cell_type": "markdown",
   "metadata": {},
   "source": [
    "1. \"Bob\", \"Sally\", \"Moe\"\n",
    "2. \"aabb\", \"aaaaaaaaabbb\", \"abbbbbb\"\n",
    "3. \"abababbaba\" \"abba\""
   ]
  },
  {
   "cell_type": "code",
   "execution_count": null,
   "metadata": {},
   "outputs": [],
   "source": []
  }
 ],
 "metadata": {
  "kernelspec": {
   "display_name": "Scala",
   "language": "scala",
   "name": "scala"
  },
  "language_info": {
   "codemirror_mode": "text/x-scala",
   "file_extension": ".sc",
   "mimetype": "text/x-scala",
   "name": "scala",
   "nbconvert_exporter": "script",
   "version": "2.13.3"
  }
 },
 "nbformat": 4,
 "nbformat_minor": 2
}
